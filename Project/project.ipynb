{
 "cells": [
  {
   "attachments": {},
   "cell_type": "markdown",
   "metadata": {},
   "source": [
    "# Fundamentals of Data Analysis Project\n",
    "\n",
    "<details>\n",
    "\n",
    "<summary> Student Details </summary>\n",
    "\n",
    "| Student| Details |\n",
    "| -------- | -------- |\n",
    "| Course: | KDATG_L08_Y1 |\n",
    "| Author: | Rebecca Hannah Quinn |\n",
    "| Student Number: | G00425671 |\n",
    "\n",
    "</details>\n",
    "\n",
    "---"
   ]
  },
  {
   "cell_type": "markdown",
   "metadata": {},
   "source": [
    "Table of Contents:\n",
    "\n",
    "[Fisher's Iris Data Set](#01)\n",
    "\n",
    "---"
   ]
  },
  {
   "cell_type": "markdown",
   "metadata": {},
   "source": [
    "<a id=\"01i\">\n",
    "\n",
    "## Fisher's Iris Data Set\n",
    "\n",
    "</a>\n",
    "\n",
    "The Iris Data Project is a renowned dataset in the machine learning community, consisting of 150 samples of iris flowers. Each sample is characterized by four features or attributes, namely sepal length, sepal width, petal length, and petal width. These samples are equally distributed amongst three different species: Setosa, Versicolor, and Virginica. This dataset is commonly employed for classification tasks in machine learning and data analytics to learn best practice in both. Despite the images of each flower in this dataset appearing quite similar, upon analyzing the samples, it becomes evident that the differences between the three varieties exist but are quite miniscule. <sup>[^1]</sup>\n",
    "\n",
    "---\n",
    "\n",
    "### Iris Varieties\n",
    "\n",
    "|Setosa|Versicolor|Virginica|\n",
    "|-------|------|------|\n",
    "|![Image of Iris Setosa Variety](./Relevant%20Files/Images/iris_setosa.jpeg)|![Image of Iris Versicolor Variety](./Relevant%20Files/Images/iris_versicolor.jpeg)|![Image of Iris Virginica Variety](./Relevant%20Files/Images/iris_virginica.jpeg)|\n",
    "\n",
    "---\n"
   ]
  },
  {
   "cell_type": "markdown",
   "metadata": {},
   "source": [
    "### Import Iris Data Set and Initial Data Exploration\n",
    "\n",
    "We first must import the data set in order to explore the information inside. We do this as below:"
   ]
  },
  {
   "cell_type": "code",
   "execution_count": 30,
   "metadata": {},
   "outputs": [
    {
     "name": "stdout",
     "output_type": "stream",
     "text": [
      "<class 'pandas.core.frame.DataFrame'>\n",
      "RangeIndex: 150 entries, 0 to 149\n",
      "Data columns (total 5 columns):\n",
      " #   Column        Non-Null Count  Dtype  \n",
      "---  ------        --------------  -----  \n",
      " 0   sepal_length  150 non-null    float64\n",
      " 1   sepal_width   150 non-null    float64\n",
      " 2   petal_length  150 non-null    float64\n",
      " 3   petal_width   150 non-null    float64\n",
      " 4   species       150 non-null    object \n",
      "dtypes: float64(4), object(1)\n",
      "memory usage: 6.0+ KB\n"
     ]
    }
   ],
   "source": [
    "import pandas as pd\n",
    "\n",
    "iris = pd.read_csv(\"./Relevant Files/Iris Data set/iris.csv\")\n",
    "\n",
    "iris.head()\n",
    "iris.head(20) \n",
    "iris.describe()\n",
    "iris.info()"
   ]
  },
  {
   "cell_type": "markdown",
   "metadata": {},
   "source": [
    "The `head()` method helps us take a quick look at the top and bottom rows of the dataframe. If you want to see a specific number of rows you just specify the number between the `()` as shown above, we see the first 20 rows of the Iris data set. To make sure there are also no missing values in the table we can use the `isnull()` method to so. If there are any it will return a true or false boolean as above. \n",
    "\n",
    "***head() Method Results***\n",
    "\n",
    "![head() Method Results](./Relevant%20Files/Images/iris.head().png \"head() method results\")\n",
    "\n",
    "***head(20) Method Results***\n",
    "\n",
    "![head(20) Method Results](./Relevant%20Files/Images/iris.head(20).png \"head(20) method results\")\n",
    "\n",
    "The `describe()` function shows the **count** or the number of non-null values - this is the 150 rows containing a value for each variable of flower species. The **max** and **min** shows the largest and smallest values in each variable. The **mean** shows the average value (or sizes listed for each variable of the flower variants). tHE **std** shows the spread of the data in relation to the **mean**: the standard deviation. This is used to determine the variability of the data points which we will see later in the plots. The `describe()` function also shows the number of data points that fall under the various percentiles. Using this function is the quickest way to get the basic statistics on any dataset but each can be used as an individual method if only specific statistic measurements are required. \n",
    "\n",
    "***describe() Method Results***\n",
    "\n",
    "![describe() Method Results](./Relevant%20Files/Images/iris.describe().png \"describe() method results\")\n",
    "\n",
    "The `info()` method shows us a summary of the data frame in total and will show data types, null values (if any) and the number of data points and variables. This is used like `describe()` to quickly gather the information in a few short commands.\n",
    "\n",
    "***info() Method Results***\n",
    "\n",
    "![dinfo() Method Results](./Relevant%20Files/Images/iris.info().png \"info() method results\")"
   ]
  },
  {
   "cell_type": "markdown",
   "metadata": {},
   "source": [
    "# REFERENCES\n",
    "\n",
    "[^1]: https://gist.github.com/curran/a08a1080b88344b0c8a7"
   ]
  },
  {
   "attachments": {},
   "cell_type": "markdown",
   "metadata": {},
   "source": [
    "## END"
   ]
  }
 ],
 "metadata": {
  "kernelspec": {
   "display_name": "Python 3",
   "language": "python",
   "name": "python3"
  },
  "language_info": {
   "codemirror_mode": {
    "name": "ipython",
    "version": 3
   },
   "file_extension": ".py",
   "mimetype": "text/x-python",
   "name": "python",
   "nbconvert_exporter": "python",
   "pygments_lexer": "ipython3",
   "version": "3.9.13"
  },
  "orig_nbformat": 4,
  "vscode": {
   "interpreter": {
    "hash": "38e2b36688e079b84d87fca17add6d5ca7c350c26e4821df0e23e2b3930c0607"
   }
  }
 },
 "nbformat": 4,
 "nbformat_minor": 2
}
