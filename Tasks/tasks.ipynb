{
 "cells": [
  {
   "attachments": {},
   "cell_type": "markdown",
   "metadata": {},
   "source": [
    "# Fundamentals of Data Analysis Tasks\n",
    "\n",
    "__Rebecca Hannah Quinn__"
   ]
  },
  {
   "attachments": {},
   "cell_type": "markdown",
   "metadata": {},
   "source": [
    "### Task 1: Collatz Conjecture\n",
    "\n",
    "> The Collatz conjecture is a famouse unsilved problem in mathematics. The problem is to prove that if you start with any positive integer $x$ and repeatedly apple the function $f(x)$ below, you always get stuck in the repeating sequence $1, 4, 2, 1, 4, 2...$\n",
    "\n",
    "__This task is to verify, using Python, that the conjecture is true for the first 10,000 positive integers.__\n",
    "\n",
    "![Collatz Conjecture Equation](https://bpb-us-e1.wpmucdn.com/sites.dartmouth.edu/dist/4/417/files/2019/11/gyorda_article_1_picture.png)"
   ]
  },
  {
   "cell_type": "code",
   "execution_count": 93,
   "metadata": {},
   "outputs": [],
   "source": [
    "#defines the basic function of the collatz conjuncture\n",
    "def f(x):\n",
    "    #if the integer can be divided by 2 (is even) then divide by two and return answer\n",
    "    if x % 2 == 0:\n",
    "        return x // 2\n",
    "    #otherwise the integer is determind odd so multiply by 3 and add 1\n",
    "    else:\n",
    "        return (3 * x) + 1"
   ]
  },
  {
   "cell_type": "code",
   "execution_count": 94,
   "metadata": {},
   "outputs": [],
   "source": [
    "#function to print the results and to loop the function\n",
    "def collatz(x):\n",
    "    # Prints a formatted statement with the current integer to verify\n",
    "    print(f'Testing Collatz with the initial value of {x}')\n",
    "    #Loops the function as long as the interger results from the above function does not equal 1\n",
    "    while x != 1:\n",
    "        x = f(x)\n",
    "        #formats the results below with spacing and commas\n",
    "        print(x, end=', ')"
   ]
  },
  {
   "cell_type": "code",
   "execution_count": 95,
   "metadata": {},
   "outputs": [
    {
     "name": "stdout",
     "output_type": "stream",
     "text": [
      "Testing Collatz with the initial value of 10000\n",
      "5000, 2500, 1250, 625, 1876, 938, 469, 1408, 704, 352, 176, 88, 44, 22, 11, 34, 17, 52, 26, 13, 40, 20, 10, 5, 16, 8, 4, 2, 1, None\n"
     ]
    }
   ],
   "source": [
    "# Integer to verify using above function, calling the function with the integer we must verify\n",
    "print(collatz(10000))"
   ]
  },
  {
   "attachments": {},
   "cell_type": "markdown",
   "metadata": {},
   "source": [
    "---\n",
    "\n",
    "### Task 2: Penguins Data Set\n",
    "\n",
    "> An overview of the famous penguins data set, explaining the types of variables it contains and suggestions of variables that should be used to model them in Python and why.\n",
    "\n"
   ]
  },
  {
   "attachments": {},
   "cell_type": "markdown",
   "metadata": {},
   "source": [
    "The dataset known as the \"penguin\" dataset refers to the Palmer Penguins dataset collected between 2007 and 2009 in the Palmer Archipelago in Antartica. It lists the species information on three species of Penguin. These measurements include the bill length and depth, flipper length, body mass and the island, species name and sex catagories. These measurements when investigated can help us to understand the characteristics and behaviours of the three species of Penguin - Chinstrap, Gentoo and Adélie.\n",
    "\n",
    "The data types are strings and numerical. \n",
    "\n",
    "| **Chinstrap** | **Gentoo** | **Adélie** |\n",
    "| ------------- | ---------- | ---------- |\n",
    "| ![Chinstrap Penguin](https://github.com/rebhanqui/data_funds/blob/main/Tasks/Images/chinstrappenguin.jpeg?raw=true) | ![Gentoo Penguin](https://github.com/rebhanqui/data_funds/blob/main/Tasks/Images/gentoopenguin.png?raw=true) | ![Adélie Penguin](https://github.com/rebhanqui/data_funds/blob/main/Tasks/Images/adeliepenguin.jpeg?raw=true) |\n",
    "| | | NOOT NOOT |\n",
    "\n",
    "!!!refimages"
   ]
  },
  {
   "attachments": {},
   "cell_type": "markdown",
   "metadata": {},
   "source": [
    "---\n",
    "\n",
    "### Task 3: Variables and Random Distributions \n",
    "\n",
    "> Suggest which probability distribution from NumPy random distributions list that is most appropriate to model each of the variables in the \"penguins\" dataset."
   ]
  },
  {
   "attachments": {},
   "cell_type": "markdown",
   "metadata": {},
   "source": [
    "#### Variables and Their Random Probability Distributions\n",
    "\n",
    "| Variable | Random Probability Distribution Type | Reasoning |\n",
    "| -------- | ------------------------------- | --------- |\n",
    "| species | multinomial distribution | as there are more than 2 possible species, the multinomical distribution used on the catagorical variable alows us to investigate the distribution and frequency of the species and their island habitats |\n",
    "| island | multinomial distribution | as there are more than 2 islands named, the multinomical distribution used on the catagorical variable alows us to investigate the distribution and frequency of the species and their island habitats |\n",
    "| sex | binomial distribution | as the outcome is catagorical but has only two outcomes: male or female |\n",
    "| bill_length_mm | normal distribution | as it is a continuous numerical measurement |\n",
    "| bill_depth_mm | normal distribution | as it is a continuous numerical measurement |\n",
    "| flipper_length_mm | normal distribution | as it is a continuous numerical measurement |\n",
    "| body_mass_g | normal distribution | as it is a continuous numerical measurement |\n",
    "\n",
    "[^1] [^2] [^3]\n",
    "\n",
    "---\n"
   ]
  },
  {
   "attachments": {},
   "cell_type": "markdown",
   "metadata": {},
   "source": [
    "### Task 4: Plot the Entropy\n",
    "\n",
    "> Suppose you are flipping two coins, each with a probability of **p** of giving heads. Plot the entropy of the total number of heads verses **p**.\n",
    "\n",
    "The probability distribution of coin flipping would be binomial, as there is only one of two end results."
   ]
  },
  {
   "cell_type": "code",
   "execution_count": 96,
   "metadata": {},
   "outputs": [],
   "source": [
    "# importing libraries for use in tasks/projects - numpy for numerical arrays and random numbers\n",
    "import numpy as np\n",
    "#REF: https://atlantictu-my.sharepoint.com/:v:/r/personal/ian_mcloughlin_atu_ie/Documents/student_shares/fundamentals_of_data_analysis/4_information/fund_t04v02_np_binomial_play.mkv?csf=1&web=1&e=Qd5qil&nav=eyJyZWZlcnJhbEluZm8iOnsicmVmZXJyYWxBcHAiOiJTdHJlYW1XZWJBcHAiLCJyZWZlcnJhbFZpZXciOiJTaGFyZURpYWxvZyIsInJlZmVycmFsQXBwUGxhdGZvcm0iOiJXZWIiLCJyZWZlcnJhbE1vZGUiOiJ2aWV3In19\n",
    "\n",
    "import matplotlib.pyplot as plt\n",
    "#to plot chart to show the entropy of total number of heads verses p\n",
    "#ref\n",
    "\n",
    "#create function to find number of heads in 2 coins tossed\n",
    "#REF: https://atlantictu-my.sharepoint.com/:v:/r/personal/ian_mcloughlin_atu_ie/Documents/student_shares/fundamentals_of_data_analysis/4_information/fund_t04v03_bernoulli.mkv?csf=1&web=1&e=GW7Xza&nav=eyJyZWZlcnJhbEluZm8iOnsicmVmZXJyYWxBcHAiOiJTdHJlYW1XZWJBcHAiLCJyZWZlcnJhbFZpZXciOiJTaGFyZURpYWxvZyIsInJlZmVycmFsQXBwUGxhdGZvcm0iOiJXZWIiLCJyZWZlcnJhbE1vZGUiOiJ2aWV3In19\n",
    "\n",
    "\n",
    "\n"
   ]
  },
  {
   "attachments": {},
   "cell_type": "markdown",
   "metadata": {},
   "source": [
    "\n",
    "---\n",
    "\n",
    "## References:\n",
    "\n",
    "[^1]: https://numpy.org/doc/stable/reference/random/generated/numpy.random.multinomial.html\n",
    "[^2]: https://numpy.org/doc/stable/reference/random/generated/numpy.random.binomial.html\n",
    "[^3]: https://numpy.org/doc/stable/reference/random/generated/numpy.random.normal.html\n",
    "https://www.markdownguide.org/cheat-sheet/ \n",
    "Images Issue: https://stackoverflow.com/questions/13051428/how-to-display-images-in-markdown-files-on-github"
   ]
  },
  {
   "attachments": {},
   "cell_type": "markdown",
   "metadata": {},
   "source": [
    "---\n",
    "\n",
    "## End"
   ]
  }
 ],
 "metadata": {
  "kernelspec": {
   "display_name": "Python 3",
   "language": "python",
   "name": "python3"
  },
  "language_info": {
   "codemirror_mode": {
    "name": "ipython",
    "version": 3
   },
   "file_extension": ".py",
   "mimetype": "text/x-python",
   "name": "python",
   "nbconvert_exporter": "python",
   "pygments_lexer": "ipython3",
   "version": "3.9.13"
  },
  "orig_nbformat": 4,
  "vscode": {
   "interpreter": {
    "hash": "38cca0c38332a56087b24af0bc80247f4fced29cb4f7f437d91dc159adec9c4e"
   }
  }
 },
 "nbformat": 4,
 "nbformat_minor": 2
}
